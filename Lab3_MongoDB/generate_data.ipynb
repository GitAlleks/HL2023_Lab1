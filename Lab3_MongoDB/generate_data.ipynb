{
 "cells": [
  {
   "cell_type": "code",
   "execution_count": null,
   "metadata": {},
   "outputs": [],
   "source": [
    "import pandas as pd\n",
    "import numpy as np\n",
    "\n",
    "from tqdm.notebook import tqdm\n",
    "from geopy.distance import geodesic\n",
    "import random\n",
    "import datetime\n",
    "# from datetime import datetime, timedelta, strftime  # Импортируйте strftime\n",
    "import warnings\n",
    "warnings.filterwarnings('ignore')"
   ]
  },
  {
   "cell_type": "code",
   "execution_count": null,
   "metadata": {},
   "outputs": [],
   "source": [
    "# adresses = pd.read_csv('london_postcodes-ons-postcodes-directory-feb22.csv', delimiter=',')\n",
    "adresses = pd.read_csv('London_postcodes.csv', delimiter=',')\n",
    "\n",
    "adresses.head()"
   ]
  },
  {
   "cell_type": "code",
   "execution_count": null,
   "metadata": {},
   "outputs": [],
   "source": [
    "taxi_rides = pd.DataFrame(\n",
    "    columns=['driver_id', 'trip_id', 'client_id', 'start_point', 'end_point', 'distance', 'start_time',\n",
    "             'end_time', 'road_time', 'cost', 'driver_rate', 'client_rate', 'category_driver_feedback', \n",
    "             'text_driver_feedback', 'category_client_feedback', 'text_client_feedback'\n",
    "             ]\n",
    "    )"
   ]
  },
  {
   "cell_type": "code",
   "execution_count": null,
   "metadata": {},
   "outputs": [],
   "source": [
    "num_rows = 5_000_000\n",
    "num_drivers = 5000\n",
    "num_clients = 2000\n",
    "\n",
    "start_date = datetime.datetime(2023, 1, 1)\n",
    "end_date = datetime.datetime(2024, 1, 1)\n",
    "\n",
    "\n",
    "driver_id_range = range(1, num_drivers + 1)\n",
    "client_id_range = range(1, num_clients + 1)\n",
    "\n",
    "\n",
    "random_addresses = adresses.sample(n=num_rows, random_state=42, replace=True)\n",
    "\n",
    "# Заполняем столбцы start_point и end_point случайными парами широты и долготы\n",
    "taxi_rides['start_point'] = list(zip(random_addresses['Latitude'], random_addresses['Longitude']))\n",
    "taxi_rides['end_point'] = list(zip(random_addresses['Latitude'].sample(frac=1, random_state=42), random_addresses['Longitude'].sample(frac=1, random_state=42)))\n",
    "\n",
    "taxi_rides['driver_id'] = [random.choice(driver_id_range) for i in range(taxi_rides.shape[0])]\n",
    "taxi_rides['client_id'] = [random.choice(client_id_range) for i in range(taxi_rides.shape[0])]\n",
    "\n",
    "# Рассчитываем расстояние\n",
    "taxi_rides['distance'] = [geodesic(start, end).km for start, end in taxi_rides[['start_point', 'end_point']].values]\n",
    "taxi_rides['distance'] = taxi_rides['distance'].round(2)\n",
    "\n",
    "taxi_rides['start_time'] = [datetime.datetime.strftime(start_date + datetime.timedelta(seconds=random.randint(0, 31536000)), '%Y-%m-%d %H:%M:%S') for i in range(num_rows)]\n",
    "taxi_rides['road_time'] = [datetime.timedelta(seconds=distance / 50 * 3600) for distance in taxi_rides['distance']]\n",
    "taxi_rides['end_time'] = [datetime.datetime.strptime(start_time, '%Y-%m-%d %H:%M:%S') + road_time for start_time, road_time in zip(taxi_rides['start_time'], taxi_rides['road_time'])]\n",
    "\n",
    "taxi_rides['start_time'] = pd.to_datetime(taxi_rides['start_time'], format='%Y-%m-%d %H:%M:%S')\n",
    "taxi_rides['end_time'] = pd.to_datetime(taxi_rides['end_time'], format='%Y-%m-%d %H:%M:%S')\n",
    "\n",
    "taxi_rides['trip_id'] = range(1, len(taxi_rides) + 1)\n"
   ]
  },
  {
   "cell_type": "code",
   "execution_count": null,
   "metadata": {},
   "outputs": [],
   "source": [
    "def count_cost(start_time, distance):\n",
    "    cost = 5 + .5 * distance\n",
    "    if (start_time.hour >= 8 and start_time.hour <= 11) or (start_time.hour >= 17 and start_time.hour <= 19):\n",
    "        cost *= 1.5\n",
    "\n",
    "    if (start_time.hour >= 23 and start_time.hour <= 6):\n",
    "        cost *= 1.75\n",
    "    return cost\n",
    "\n",
    "\n",
    "taxi_rides['cost'] = [count_cost(time, dist) for time, dist in zip(taxi_rides['start_time'], taxi_rides['distance'])]\n",
    "taxi_rides['cost'] = taxi_rides['cost'].round(2)"
   ]
  },
  {
   "cell_type": "code",
   "execution_count": null,
   "metadata": {},
   "outputs": [],
   "source": [
    "driver_rate_idx = np.random.randint(low=0, high=num_drivers, size=int(num_rows*0.85))\n",
    "driver_rate_distr_arr = np.random.multinomial(1, [.2, .05, .1, .25, .4], size=int(num_rows*0.85))\n",
    "taxi_rides['driver_rate'][driver_rate_idx] = np.where(driver_rate_distr_arr == 1)[1] + 1\n",
    "\n",
    "client_rate_idx = np.random.randint(low=0, high=num_drivers, size=int(num_rows*0.75))\n",
    "client_rate_distr_arr = np.random.multinomial(1, [.2, .05, .1, .25, .4], size=int(num_rows*0.75))\n",
    "taxi_rides['client_rate'][driver_rate_idx] = np.where(driver_rate_distr_arr == 1)[1] + 1"
   ]
  },
  {
   "cell_type": "code",
   "execution_count": null,
   "metadata": {},
   "outputs": [],
   "source": [
    "driver_fb_cat_good = ['good service', 'nice car', 'expert navigation']\n",
    "driver_fb_cat_bad = ['awful service', 'bad car', 'dirty', 'rude']\n",
    "\n",
    "client_fb_cat_good = ['polite', 'pleasant', 'quiet']\n",
    "client_fb_cat_bad = ['unpolite', 'unpleasant', 'loud', 'dirty']\n",
    "\n",
    "category_driver_good_feedback_idx = np.random.choice(taxi_rides[taxi_rides.driver_rate > 3].index, size=int(num_rows*0.3*0.2))\n",
    "taxi_rides[\"category_driver_feedback\"][category_driver_good_feedback_idx] = np.random.choice(driver_fb_cat_good, size=int(num_rows*0.3*0.2))\n",
    "\n",
    "category_driver_bad_feedback_idx = np.random.choice(taxi_rides[taxi_rides.driver_rate < 4].index, size=int(num_rows*0.3*0.2))\n",
    "taxi_rides[\"category_driver_feedback\"][category_driver_bad_feedback_idx] = np.random.choice(driver_fb_cat_bad, size=int(num_rows*0.3*0.2))\n",
    "\n",
    "\n",
    "text_good_feedback_driver_length = np.random.randint(low=0, high=len(driver_fb_cat_good), size=int(num_rows*0.3*0.2))\n",
    "text_good_feedback_driver_sample = [random.sample(driver_fb_cat_good, i) for i in text_good_feedback_driver_length]\n",
    "taxi_rides['text_driver_feedback'][category_driver_good_feedback_idx] = text_good_feedback_driver_sample\n",
    "\n",
    "text_bad_feedback_driver_length = np.random.randint(low=0, high=len(driver_fb_cat_bad), size=int(num_rows*0.3*0.2))\n",
    "text_bad_feedback_driver_sample = [random.sample(driver_fb_cat_bad, i) for i in text_bad_feedback_driver_length]\n",
    "taxi_rides['text_driver_feedback'][category_driver_bad_feedback_idx] = text_bad_feedback_driver_sample\n",
    "\n",
    "# ------------------\n",
    "\n",
    "category_client_good_feedback_idx = np.random.choice(taxi_rides[taxi_rides.client_rate > 3].index, size=int(num_rows*0.3*0.2))\n",
    "taxi_rides[\"category_client_feedback\"][category_client_good_feedback_idx] = np.random.choice(client_fb_cat_good, size=int(num_rows*0.3*0.2))\n",
    "\n",
    "category_client_bad_feedback_idx = np.random.choice(taxi_rides[taxi_rides.client_rate < 4].index, size=int(num_rows*0.3*0.2))\n",
    "taxi_rides[\"category_client_feedback\"][category_client_bad_feedback_idx] = np.random.choice(client_fb_cat_bad, size=int(num_rows*0.3*0.2))\n",
    "\n",
    "\n",
    "text_good_feedback_client_length = np.random.randint(low=0, high=len(client_fb_cat_good), size=int(num_rows*0.3*0.2))\n",
    "text_good_feedback_client_sample = [random.sample(client_fb_cat_good, i) for i in text_good_feedback_client_length]\n",
    "taxi_rides['text_client_feedback'][category_client_good_feedback_idx] = text_good_feedback_client_sample\n",
    "\n",
    "text_bad_feedback_client_length = np.random.randint(low=0, high=len(client_fb_cat_bad), size=int(num_rows*0.3*0.2))\n",
    "text_bad_feedback_client_sample = [random.sample(client_fb_cat_bad, i) for i in text_bad_feedback_client_length]\n",
    "taxi_rides['text_client_feedback'][category_client_bad_feedback_idx] = text_bad_feedback_client_sample\n"
   ]
  },
  {
   "cell_type": "code",
   "execution_count": null,
   "metadata": {},
   "outputs": [],
   "source": [
    "taxi_rides"
   ]
  },
  {
   "cell_type": "markdown",
   "metadata": {},
   "source": []
  },
  {
   "cell_type": "code",
   "execution_count": null,
   "metadata": {},
   "outputs": [],
   "source": [
    "taxi_rides.to_csv('taxi.csv',  index=False)"
   ]
  },
  {
   "cell_type": "code",
   "execution_count": null,
   "metadata": {},
   "outputs": [],
   "source": []
  }
 ],
 "metadata": {
  "kernelspec": {
   "display_name": "datagen",
   "language": "python",
   "name": "python3"
  },
  "language_info": {
   "codemirror_mode": {
    "name": "ipython",
    "version": 3
   },
   "file_extension": ".py",
   "mimetype": "text/x-python",
   "name": "python",
   "nbconvert_exporter": "python",
   "pygments_lexer": "ipython3",
   "version": "3.10.10"
  }
 },
 "nbformat": 4,
 "nbformat_minor": 2
}
