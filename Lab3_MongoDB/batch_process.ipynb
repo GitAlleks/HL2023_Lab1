{
 "cells": [
  {
   "cell_type": "code",
   "execution_count": 9,
   "metadata": {},
   "outputs": [],
   "source": [
    "import pandas as pd\n",
    "import os\n",
    "import subprocess"
   ]
  },
  {
   "cell_type": "code",
   "execution_count": 2,
   "metadata": {},
   "outputs": [],
   "source": [
    "def read_csv_in_batches(file_path, batch_size=100_000):\n",
    "    # Чтение CSV файла с использованием библиотеки pandas\n",
    "    df = pd.read_csv(file_path, iterator=True, chunksize=batch_size)\n",
    "    \n",
    "    # Итерация по пакетам данных\n",
    "    batches = []\n",
    "    for batch in df:\n",
    "        batches.append(batch)\n",
    "    \n",
    "    return batches"
   ]
  },
  {
   "cell_type": "code",
   "execution_count": 3,
   "metadata": {},
   "outputs": [
    {
     "name": "stderr",
     "output_type": "stream",
     "text": [
      "C:\\Users\\drale\\AppData\\Local\\Temp\\ipykernel_17864\\3906583586.py:7: DtypeWarning: Columns (11,12,13,14) have mixed types. Specify dtype option on import or set low_memory=False.\n",
      "  for batch in df:\n"
     ]
    }
   ],
   "source": [
    "# Пример использования\n",
    "file_path = 'taxi.csv'\n",
    "result_batches = read_csv_in_batches(file_path)"
   ]
  },
  {
   "cell_type": "code",
   "execution_count": 7,
   "metadata": {},
   "outputs": [],
   "source": [
    "def save_batches_to_csv(batches, output_folder='output'):\n",
    "    # Создаем папку для сохранения файлов, если её нет\n",
    "    os.makedirs(output_folder, exist_ok=True)\n",
    "\n",
    "    # Итерация по пакетам данных\n",
    "    for i, batch in enumerate(batches):\n",
    "        output_file = os.path.join(output_folder, f'batch_{i + 1}.csv')\n",
    "        batch.to_csv(output_file, index=False)\n",
    "        print(f'Пакет {i + 1} сохранен в файл {output_file}')"
   ]
  },
  {
   "cell_type": "code",
   "execution_count": 8,
   "metadata": {},
   "outputs": [
    {
     "name": "stdout",
     "output_type": "stream",
     "text": [
      "Пакет 1 сохранен в файл data/batch_1.csv\n",
      "Пакет 2 сохранен в файл data/batch_2.csv\n",
      "Пакет 3 сохранен в файл data/batch_3.csv\n",
      "Пакет 4 сохранен в файл data/batch_4.csv\n",
      "Пакет 5 сохранен в файл data/batch_5.csv\n",
      "Пакет 6 сохранен в файл data/batch_6.csv\n",
      "Пакет 7 сохранен в файл data/batch_7.csv\n",
      "Пакет 8 сохранен в файл data/batch_8.csv\n",
      "Пакет 9 сохранен в файл data/batch_9.csv\n",
      "Пакет 10 сохранен в файл data/batch_10.csv\n",
      "Пакет 11 сохранен в файл data/batch_11.csv\n",
      "Пакет 12 сохранен в файл data/batch_12.csv\n",
      "Пакет 13 сохранен в файл data/batch_13.csv\n",
      "Пакет 14 сохранен в файл data/batch_14.csv\n",
      "Пакет 15 сохранен в файл data/batch_15.csv\n",
      "Пакет 16 сохранен в файл data/batch_16.csv\n",
      "Пакет 17 сохранен в файл data/batch_17.csv\n",
      "Пакет 18 сохранен в файл data/batch_18.csv\n",
      "Пакет 19 сохранен в файл data/batch_19.csv\n",
      "Пакет 20 сохранен в файл data/batch_20.csv\n",
      "Пакет 21 сохранен в файл data/batch_21.csv\n",
      "Пакет 22 сохранен в файл data/batch_22.csv\n",
      "Пакет 23 сохранен в файл data/batch_23.csv\n",
      "Пакет 24 сохранен в файл data/batch_24.csv\n",
      "Пакет 25 сохранен в файл data/batch_25.csv\n",
      "Пакет 26 сохранен в файл data/batch_26.csv\n",
      "Пакет 27 сохранен в файл data/batch_27.csv\n",
      "Пакет 28 сохранен в файл data/batch_28.csv\n",
      "Пакет 29 сохранен в файл data/batch_29.csv\n",
      "Пакет 30 сохранен в файл data/batch_30.csv\n",
      "Пакет 31 сохранен в файл data/batch_31.csv\n",
      "Пакет 32 сохранен в файл data/batch_32.csv\n",
      "Пакет 33 сохранен в файл data/batch_33.csv\n",
      "Пакет 34 сохранен в файл data/batch_34.csv\n",
      "Пакет 35 сохранен в файл data/batch_35.csv\n",
      "Пакет 36 сохранен в файл data/batch_36.csv\n",
      "Пакет 37 сохранен в файл data/batch_37.csv\n",
      "Пакет 38 сохранен в файл data/batch_38.csv\n",
      "Пакет 39 сохранен в файл data/batch_39.csv\n",
      "Пакет 40 сохранен в файл data/batch_40.csv\n",
      "Пакет 41 сохранен в файл data/batch_41.csv\n",
      "Пакет 42 сохранен в файл data/batch_42.csv\n",
      "Пакет 43 сохранен в файл data/batch_43.csv\n",
      "Пакет 44 сохранен в файл data/batch_44.csv\n",
      "Пакет 45 сохранен в файл data/batch_45.csv\n",
      "Пакет 46 сохранен в файл data/batch_46.csv\n",
      "Пакет 47 сохранен в файл data/batch_47.csv\n",
      "Пакет 48 сохранен в файл data/batch_48.csv\n",
      "Пакет 49 сохранен в файл data/batch_49.csv\n",
      "Пакет 50 сохранен в файл data/batch_50.csv\n"
     ]
    }
   ],
   "source": [
    "save_batches_to_csv(result_batches, output_folder='data/')"
   ]
  },
  {
   "cell_type": "code",
   "execution_count": 12,
   "metadata": {},
   "outputs": [],
   "source": [
    "def import_to_mongodb(input_folder='data', mongodb_host='localhost', mongodb_port=27017, db_name='london', collection_name='rides'):\n",
    "    # Получаем список файлов в указанной директории\n",
    "    files = os.listdir(input_folder)\n",
    "\n",
    "    # Итерация по файлам\n",
    "    for file_name in files:\n",
    "        file_path = os.path.join(input_folder, file_name)\n",
    "\n",
    "        # Формируем команду mongoimport\n",
    "        command = f'mongoimport --host={mongodb_host} --port={mongodb_port} --db={db_name} --collection={collection_name} --type=csv --headerline --ignoreBlanks --file={file_path}'\n",
    "\n",
    "        # Запускаем команду с использованием subprocess\n",
    "        subprocess.run(command, shell=True)\n",
    "\n",
    "        # Выводим информацию в консоль\n",
    "        print(f\"[INFO] File: {file_name} was processed to MongoDB Server\")\n",
    "\n",
    "        # Удаляем файл после обработки\n",
    "        os.remove(file_path)\n",
    "        print(f\"[INFO] File: {file_name} was removed\")"
   ]
  },
  {
   "cell_type": "code",
   "execution_count": 13,
   "metadata": {},
   "outputs": [
    {
     "name": "stdout",
     "output_type": "stream",
     "text": [
      "[INFO] File: batch_1.csv was processed to MongoDB Server\n",
      "[INFO] File: batch_10.csv was processed to MongoDB Server\n",
      "[INFO] File: batch_11.csv was processed to MongoDB Server\n",
      "[INFO] File: batch_12.csv was processed to MongoDB Server\n",
      "[INFO] File: batch_13.csv was processed to MongoDB Server\n",
      "[INFO] File: batch_14.csv was processed to MongoDB Server\n",
      "[INFO] File: batch_15.csv was processed to MongoDB Server\n",
      "[INFO] File: batch_16.csv was processed to MongoDB Server\n",
      "[INFO] File: batch_17.csv was processed to MongoDB Server\n",
      "[INFO] File: batch_18.csv was processed to MongoDB Server\n",
      "[INFO] File: batch_19.csv was processed to MongoDB Server\n",
      "[INFO] File: batch_2.csv was processed to MongoDB Server\n",
      "[INFO] File: batch_20.csv was processed to MongoDB Server\n",
      "[INFO] File: batch_21.csv was processed to MongoDB Server\n",
      "[INFO] File: batch_22.csv was processed to MongoDB Server\n",
      "[INFO] File: batch_23.csv was processed to MongoDB Server\n",
      "[INFO] File: batch_24.csv was processed to MongoDB Server\n",
      "[INFO] File: batch_25.csv was processed to MongoDB Server\n",
      "[INFO] File: batch_26.csv was processed to MongoDB Server\n",
      "[INFO] File: batch_27.csv was processed to MongoDB Server\n",
      "[INFO] File: batch_28.csv was processed to MongoDB Server\n",
      "[INFO] File: batch_29.csv was processed to MongoDB Server\n",
      "[INFO] File: batch_3.csv was processed to MongoDB Server\n",
      "[INFO] File: batch_30.csv was processed to MongoDB Server\n",
      "[INFO] File: batch_31.csv was processed to MongoDB Server\n",
      "[INFO] File: batch_32.csv was processed to MongoDB Server\n",
      "[INFO] File: batch_33.csv was processed to MongoDB Server\n",
      "[INFO] File: batch_34.csv was processed to MongoDB Server\n",
      "[INFO] File: batch_35.csv was processed to MongoDB Server\n",
      "[INFO] File: batch_36.csv was processed to MongoDB Server\n",
      "[INFO] File: batch_37.csv was processed to MongoDB Server\n",
      "[INFO] File: batch_38.csv was processed to MongoDB Server\n",
      "[INFO] File: batch_39.csv was processed to MongoDB Server\n",
      "[INFO] File: batch_4.csv was processed to MongoDB Server\n",
      "[INFO] File: batch_40.csv was processed to MongoDB Server\n",
      "[INFO] File: batch_41.csv was processed to MongoDB Server\n",
      "[INFO] File: batch_42.csv was processed to MongoDB Server\n",
      "[INFO] File: batch_43.csv was processed to MongoDB Server\n",
      "[INFO] File: batch_44.csv was processed to MongoDB Server\n",
      "[INFO] File: batch_45.csv was processed to MongoDB Server\n",
      "[INFO] File: batch_46.csv was processed to MongoDB Server\n",
      "[INFO] File: batch_47.csv was processed to MongoDB Server\n",
      "[INFO] File: batch_48.csv was processed to MongoDB Server\n",
      "[INFO] File: batch_49.csv was processed to MongoDB Server\n",
      "[INFO] File: batch_5.csv was processed to MongoDB Server\n",
      "[INFO] File: batch_50.csv was processed to MongoDB Server\n",
      "[INFO] File: batch_6.csv was processed to MongoDB Server\n",
      "[INFO] File: batch_7.csv was processed to MongoDB Server\n",
      "[INFO] File: batch_8.csv was processed to MongoDB Server\n",
      "[INFO] File: batch_9.csv was processed to MongoDB Server\n"
     ]
    }
   ],
   "source": [
    "import_to_mongodb()"
   ]
  },
  {
   "cell_type": "code",
   "execution_count": null,
   "metadata": {},
   "outputs": [],
   "source": []
  }
 ],
 "metadata": {
  "kernelspec": {
   "display_name": "Python 3",
   "language": "python",
   "name": "python3"
  },
  "language_info": {
   "codemirror_mode": {
    "name": "ipython",
    "version": 3
   },
   "file_extension": ".py",
   "mimetype": "text/x-python",
   "name": "python",
   "nbconvert_exporter": "python",
   "pygments_lexer": "ipython3",
   "version": "3.10.10"
  }
 },
 "nbformat": 4,
 "nbformat_minor": 2
}
