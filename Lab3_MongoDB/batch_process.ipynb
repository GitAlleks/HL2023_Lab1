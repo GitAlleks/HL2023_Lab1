{
 "cells": [
  {
   "cell_type": "code",
   "execution_count": 11,
   "metadata": {},
   "outputs": [],
   "source": [
    "import pandas as pd\n",
    "import os\n",
    "import subprocess\n",
    "import tqdm"
   ]
  },
  {
   "cell_type": "code",
   "execution_count": 9,
   "metadata": {},
   "outputs": [],
   "source": [
    "def preprocess_folder(output_filepath):\n",
    "    if os.path.isdir(output_filepath):\n",
    "        for file in os.listdir(output_filepath):\n",
    "            os.remove(os.path.join(output_filepath, file))\n",
    "        print('[INFO] Directory was cleaned successfully')\n",
    "    else:\n",
    "        raise FileNotFoundError(f\"Папка {output_filepath} не существует.\")\n",
    "\n",
    "\n",
    "def read_csv_in_batches(file_path, batch_size=100_000):\n",
    "    # Чтение CSV файла с использованием библиотеки pandas\n",
    "    df = pd.read_csv(file_path, iterator=True, chunksize=batch_size, low_memory=False)\n",
    "    \n",
    "    # Итерация по пакетам данных\n",
    "    batches = []\n",
    "    for batch in df:\n",
    "        batches.append(batch)\n",
    "    \n",
    "    print(f'[INFO] Batches was created. Total number of butches: {len(batches)}')\n",
    "    return batches\n",
    "\n",
    "\n",
    "def save_batches_to_csv(batches, output_folder='output'):\n",
    "    # Создаем папку для сохранения файлов, если её нет\n",
    "    os.makedirs(output_folder, exist_ok=True)\n",
    "\n",
    "    # Итерация по пакетам данных\n",
    "    for i, batch in enumerate(batches):\n",
    "        output_file = os.path.join(output_folder, f'batch_{i + 1}.csv')\n",
    "        batch.to_csv(output_file, index=False)\n",
    "        print(f'[INFO] Batch #{i + 1} was saved to {output_file}') "
   ]
  },
  {
   "cell_type": "code",
   "execution_count": 8,
   "metadata": {},
   "outputs": [
    {
     "name": "stdout",
     "output_type": "stream",
     "text": [
      "[INFO] Directory was cleaned successfully\n",
      "[INFO] Batches was created. Total number of butches: 50\n"
     ]
    }
   ],
   "source": [
    "# Пример использования\n",
    "# file_path = 'taxi.csv'\n",
    "file_path = 'taxi_with_trips.csv'\n",
    "output_filepath = 'data/'\n",
    "preprocess_folder(output_filepath)\n",
    "result_batches = read_csv_in_batches(file_path)"
   ]
  },
  {
   "cell_type": "code",
   "execution_count": 10,
   "metadata": {},
   "outputs": [
    {
     "name": "stdout",
     "output_type": "stream",
     "text": [
      "[INFO] Batch #1 was saved to data/batch_1.csv\n",
      "[INFO] Batch #2 was saved to data/batch_2.csv\n",
      "[INFO] Batch #3 was saved to data/batch_3.csv\n",
      "[INFO] Batch #4 was saved to data/batch_4.csv\n",
      "[INFO] Batch #5 was saved to data/batch_5.csv\n",
      "[INFO] Batch #6 was saved to data/batch_6.csv\n",
      "[INFO] Batch #7 was saved to data/batch_7.csv\n",
      "[INFO] Batch #8 was saved to data/batch_8.csv\n",
      "[INFO] Batch #9 was saved to data/batch_9.csv\n",
      "[INFO] Batch #10 was saved to data/batch_10.csv\n",
      "[INFO] Batch #11 was saved to data/batch_11.csv\n",
      "[INFO] Batch #12 was saved to data/batch_12.csv\n",
      "[INFO] Batch #13 was saved to data/batch_13.csv\n",
      "[INFO] Batch #14 was saved to data/batch_14.csv\n",
      "[INFO] Batch #15 was saved to data/batch_15.csv\n",
      "[INFO] Batch #16 was saved to data/batch_16.csv\n",
      "[INFO] Batch #17 was saved to data/batch_17.csv\n",
      "[INFO] Batch #18 was saved to data/batch_18.csv\n",
      "[INFO] Batch #19 was saved to data/batch_19.csv\n",
      "[INFO] Batch #20 was saved to data/batch_20.csv\n",
      "[INFO] Batch #21 was saved to data/batch_21.csv\n",
      "[INFO] Batch #22 was saved to data/batch_22.csv\n",
      "[INFO] Batch #23 was saved to data/batch_23.csv\n",
      "[INFO] Batch #24 was saved to data/batch_24.csv\n",
      "[INFO] Batch #25 was saved to data/batch_25.csv\n",
      "[INFO] Batch #26 was saved to data/batch_26.csv\n",
      "[INFO] Batch #27 was saved to data/batch_27.csv\n",
      "[INFO] Batch #28 was saved to data/batch_28.csv\n",
      "[INFO] Batch #29 was saved to data/batch_29.csv\n",
      "[INFO] Batch #30 was saved to data/batch_30.csv\n",
      "[INFO] Batch #31 was saved to data/batch_31.csv\n",
      "[INFO] Batch #32 was saved to data/batch_32.csv\n",
      "[INFO] Batch #33 was saved to data/batch_33.csv\n",
      "[INFO] Batch #34 was saved to data/batch_34.csv\n",
      "[INFO] Batch #35 was saved to data/batch_35.csv\n",
      "[INFO] Batch #36 was saved to data/batch_36.csv\n",
      "[INFO] Batch #37 was saved to data/batch_37.csv\n",
      "[INFO] Batch #38 was saved to data/batch_38.csv\n",
      "[INFO] Batch #39 was saved to data/batch_39.csv\n",
      "[INFO] Batch #40 was saved to data/batch_40.csv\n",
      "[INFO] Batch #41 was saved to data/batch_41.csv\n",
      "[INFO] Batch #42 was saved to data/batch_42.csv\n",
      "[INFO] Batch #43 was saved to data/batch_43.csv\n",
      "[INFO] Batch #44 was saved to data/batch_44.csv\n",
      "[INFO] Batch #45 was saved to data/batch_45.csv\n",
      "[INFO] Batch #46 was saved to data/batch_46.csv\n",
      "[INFO] Batch #47 was saved to data/batch_47.csv\n",
      "[INFO] Batch #48 was saved to data/batch_48.csv\n",
      "[INFO] Batch #49 was saved to data/batch_49.csv\n",
      "[INFO] Batch #50 was saved to data/batch_50.csv\n"
     ]
    }
   ],
   "source": [
    "save_batches_to_csv(result_batches, output_folder='data/')"
   ]
  },
  {
   "cell_type": "code",
   "execution_count": 13,
   "metadata": {},
   "outputs": [],
   "source": [
    "# def import_to_mongodb(input_folder='data', mongodb_host='localhost', mongodb_port=27017, db_name='london', collection_name='rides'):\n",
    "#     # Получаем список файлов в указанной директории\n",
    "#     files = os.listdir(input_folder)\n",
    "\n",
    "#     # Итерация по файлам\n",
    "#     for file_name in files:\n",
    "#         file_path = os.path.join(input_folder, file_name)\n",
    "\n",
    "#         # Формируем команду mongoimport\n",
    "#         command = f'mongoimport --host={mongodb_host} --port={mongodb_port} --db={db_name} --collection={collection_name} --type=csv --headerline --ignoreBlanks --file={file_path}'\n",
    "\n",
    "#         # Запускаем команду с использованием subprocess\n",
    "#         subprocess.run(command, shell=True)\n",
    "\n",
    "#         # Выводим информацию в консоль\n",
    "#         print(f\"[INFO] File: {file_name} was processed to MongoDB Server\")\n",
    "\n",
    "#         # Удаляем файл после обработки\n",
    "#         os.remove(file_path)\n",
    "#         print(f\"[INFO] File: {file_name} was removed\")\n",
    "\n",
    "\n",
    "def import_to_mongodb(input_folder='data', mongodb_host='localhost', mongodb_port=27017, db_name='london', collection_name='rides_2'):\n",
    "  \"\"\"\n",
    "  Импортирует данные из файлов в MongoDB.\n",
    "\n",
    "  Args:\n",
    "    input_folder: Путь к папке с файлами.\n",
    "    mongodb_host: Адрес хоста MongoDB.\n",
    "    mongodb_port: Порт MongoDB.\n",
    "    db_name: Имя базы данных MongoDB.\n",
    "    collection_name: Имя коллекции MongoDB.\n",
    "  \"\"\"\n",
    "\n",
    "  # Получаем список файлов в указанной директории\n",
    "  files = os.listdir(input_folder)\n",
    "\n",
    "  # Итерация по файлам с использованием tqdm\n",
    "  for file_name in tqdm.tqdm(files):\n",
    "    file_path = os.path.join(input_folder, file_name)\n",
    "\n",
    "    # Формируем команду mongoimport\n",
    "    command = f'mongoimport --host={mongodb_host} --port={mongodb_port} --db={db_name} --collection={collection_name} --type=csv --headerline --ignoreBlanks --file={file_path}'\n",
    "\n",
    "    # Запускаем команду с использованием subprocess\n",
    "    subprocess.run(command, shell=True)\n",
    "\n",
    "    # Выводим информацию в консоль\n",
    "    # print(f\"[INFO] File: {file_name} was processed to MongoDB Server\")\n",
    "\n",
    "    # Удаляем файл после обработки\n",
    "    os.remove(file_path)\n",
    "    # print(f\"[INFO] File: {file_name} was removed\")"
   ]
  },
  {
   "cell_type": "code",
   "execution_count": 14,
   "metadata": {},
   "outputs": [
    {
     "name": "stderr",
     "output_type": "stream",
     "text": [
      "  2%|▏         | 1/50 [00:12<10:16, 12.58s/it]"
     ]
    },
    {
     "name": "stdout",
     "output_type": "stream",
     "text": [
      "[INFO] File: batch_1.csv was processed to MongoDB Server\n",
      "[INFO] File: batch_1.csv was removed\n"
     ]
    },
    {
     "name": "stderr",
     "output_type": "stream",
     "text": [
      "  4%|▍         | 2/50 [00:24<09:56, 12.43s/it]"
     ]
    },
    {
     "name": "stdout",
     "output_type": "stream",
     "text": [
      "[INFO] File: batch_10.csv was processed to MongoDB Server\n",
      "[INFO] File: batch_10.csv was removed\n"
     ]
    },
    {
     "name": "stderr",
     "output_type": "stream",
     "text": [
      "  6%|▌         | 3/50 [00:37<09:40, 12.35s/it]"
     ]
    },
    {
     "name": "stdout",
     "output_type": "stream",
     "text": [
      "[INFO] File: batch_11.csv was processed to MongoDB Server\n",
      "[INFO] File: batch_11.csv was removed\n"
     ]
    },
    {
     "name": "stderr",
     "output_type": "stream",
     "text": [
      "  8%|▊         | 4/50 [00:42<07:19,  9.56s/it]"
     ]
    },
    {
     "name": "stdout",
     "output_type": "stream",
     "text": [
      "[INFO] File: batch_12.csv was processed to MongoDB Server\n",
      "[INFO] File: batch_12.csv was removed\n"
     ]
    },
    {
     "name": "stderr",
     "output_type": "stream",
     "text": [
      " 10%|█         | 5/50 [00:47<06:00,  8.01s/it]"
     ]
    },
    {
     "name": "stdout",
     "output_type": "stream",
     "text": [
      "[INFO] File: batch_13.csv was processed to MongoDB Server\n",
      "[INFO] File: batch_13.csv was removed\n"
     ]
    },
    {
     "name": "stderr",
     "output_type": "stream",
     "text": [
      " 12%|█▏        | 6/50 [01:04<08:03, 10.98s/it]"
     ]
    },
    {
     "name": "stdout",
     "output_type": "stream",
     "text": [
      "[INFO] File: batch_14.csv was processed to MongoDB Server\n",
      "[INFO] File: batch_14.csv was removed\n"
     ]
    },
    {
     "name": "stderr",
     "output_type": "stream",
     "text": [
      " 14%|█▍        | 7/50 [01:46<15:12, 21.23s/it]"
     ]
    },
    {
     "name": "stdout",
     "output_type": "stream",
     "text": [
      "[INFO] File: batch_15.csv was processed to MongoDB Server\n",
      "[INFO] File: batch_15.csv was removed\n"
     ]
    },
    {
     "name": "stderr",
     "output_type": "stream",
     "text": [
      " 16%|█▌        | 8/50 [03:39<35:21, 50.51s/it]"
     ]
    },
    {
     "name": "stdout",
     "output_type": "stream",
     "text": [
      "[INFO] File: batch_16.csv was processed to MongoDB Server\n",
      "[INFO] File: batch_16.csv was removed\n"
     ]
    },
    {
     "name": "stderr",
     "output_type": "stream",
     "text": [
      " 18%|█▊        | 9/50 [03:44<24:41, 36.12s/it]"
     ]
    },
    {
     "name": "stdout",
     "output_type": "stream",
     "text": [
      "[INFO] File: batch_17.csv was processed to MongoDB Server\n",
      "[INFO] File: batch_17.csv was removed\n"
     ]
    },
    {
     "name": "stderr",
     "output_type": "stream",
     "text": [
      " 20%|██        | 10/50 [03:49<17:38, 26.47s/it]"
     ]
    },
    {
     "name": "stdout",
     "output_type": "stream",
     "text": [
      "[INFO] File: batch_18.csv was processed to MongoDB Server\n",
      "[INFO] File: batch_18.csv was removed\n"
     ]
    },
    {
     "name": "stderr",
     "output_type": "stream",
     "text": [
      " 22%|██▏       | 11/50 [03:54<13:00, 20.00s/it]"
     ]
    },
    {
     "name": "stdout",
     "output_type": "stream",
     "text": [
      "[INFO] File: batch_19.csv was processed to MongoDB Server\n",
      "[INFO] File: batch_19.csv was removed\n"
     ]
    },
    {
     "name": "stderr",
     "output_type": "stream",
     "text": [
      " 24%|██▍       | 12/50 [04:02<10:18, 16.28s/it]"
     ]
    },
    {
     "name": "stdout",
     "output_type": "stream",
     "text": [
      "[INFO] File: batch_2.csv was processed to MongoDB Server\n",
      "[INFO] File: batch_2.csv was removed\n"
     ]
    },
    {
     "name": "stderr",
     "output_type": "stream",
     "text": [
      " 26%|██▌       | 13/50 [04:22<10:46, 17.48s/it]"
     ]
    },
    {
     "name": "stdout",
     "output_type": "stream",
     "text": [
      "[INFO] File: batch_20.csv was processed to MongoDB Server\n",
      "[INFO] File: batch_20.csv was removed\n"
     ]
    },
    {
     "name": "stderr",
     "output_type": "stream",
     "text": [
      " 28%|██▊       | 14/50 [04:30<08:47, 14.65s/it]"
     ]
    },
    {
     "name": "stdout",
     "output_type": "stream",
     "text": [
      "[INFO] File: batch_21.csv was processed to MongoDB Server\n",
      "[INFO] File: batch_21.csv was removed\n"
     ]
    },
    {
     "name": "stderr",
     "output_type": "stream",
     "text": [
      " 30%|███       | 15/50 [04:38<07:15, 12.43s/it]"
     ]
    },
    {
     "name": "stdout",
     "output_type": "stream",
     "text": [
      "[INFO] File: batch_22.csv was processed to MongoDB Server\n",
      "[INFO] File: batch_22.csv was removed\n"
     ]
    },
    {
     "name": "stderr",
     "output_type": "stream",
     "text": [
      " 32%|███▏      | 16/50 [04:42<05:44, 10.14s/it]"
     ]
    },
    {
     "name": "stdout",
     "output_type": "stream",
     "text": [
      "[INFO] File: batch_23.csv was processed to MongoDB Server\n",
      "[INFO] File: batch_23.csv was removed\n"
     ]
    },
    {
     "name": "stderr",
     "output_type": "stream",
     "text": [
      " 34%|███▍      | 17/50 [04:47<04:39,  8.48s/it]"
     ]
    },
    {
     "name": "stdout",
     "output_type": "stream",
     "text": [
      "[INFO] File: batch_24.csv was processed to MongoDB Server\n",
      "[INFO] File: batch_24.csv was removed\n"
     ]
    },
    {
     "name": "stderr",
     "output_type": "stream",
     "text": [
      " 36%|███▌      | 18/50 [04:52<03:56,  7.38s/it]"
     ]
    },
    {
     "name": "stdout",
     "output_type": "stream",
     "text": [
      "[INFO] File: batch_25.csv was processed to MongoDB Server\n",
      "[INFO] File: batch_25.csv was removed\n"
     ]
    },
    {
     "name": "stderr",
     "output_type": "stream",
     "text": [
      " 38%|███▊      | 19/50 [04:56<03:21,  6.52s/it]"
     ]
    },
    {
     "name": "stdout",
     "output_type": "stream",
     "text": [
      "[INFO] File: batch_26.csv was processed to MongoDB Server\n",
      "[INFO] File: batch_26.csv was removed\n"
     ]
    },
    {
     "name": "stderr",
     "output_type": "stream",
     "text": [
      " 40%|████      | 20/50 [05:01<03:00,  6.02s/it]"
     ]
    },
    {
     "name": "stdout",
     "output_type": "stream",
     "text": [
      "[INFO] File: batch_27.csv was processed to MongoDB Server\n",
      "[INFO] File: batch_27.csv was removed\n"
     ]
    },
    {
     "name": "stderr",
     "output_type": "stream",
     "text": [
      " 42%|████▏     | 21/50 [05:06<02:41,  5.57s/it]"
     ]
    },
    {
     "name": "stdout",
     "output_type": "stream",
     "text": [
      "[INFO] File: batch_28.csv was processed to MongoDB Server\n",
      "[INFO] File: batch_28.csv was removed\n"
     ]
    },
    {
     "name": "stderr",
     "output_type": "stream",
     "text": [
      " 44%|████▍     | 22/50 [05:11<02:31,  5.41s/it]"
     ]
    },
    {
     "name": "stdout",
     "output_type": "stream",
     "text": [
      "[INFO] File: batch_29.csv was processed to MongoDB Server\n",
      "[INFO] File: batch_29.csv was removed\n"
     ]
    },
    {
     "name": "stderr",
     "output_type": "stream",
     "text": [
      " 46%|████▌     | 23/50 [05:18<02:37,  5.83s/it]"
     ]
    },
    {
     "name": "stdout",
     "output_type": "stream",
     "text": [
      "[INFO] File: batch_3.csv was processed to MongoDB Server\n",
      "[INFO] File: batch_3.csv was removed\n"
     ]
    },
    {
     "name": "stderr",
     "output_type": "stream",
     "text": [
      " 48%|████▊     | 24/50 [05:37<04:16,  9.87s/it]"
     ]
    },
    {
     "name": "stdout",
     "output_type": "stream",
     "text": [
      "[INFO] File: batch_30.csv was processed to MongoDB Server\n",
      "[INFO] File: batch_30.csv was removed\n"
     ]
    },
    {
     "name": "stderr",
     "output_type": "stream",
     "text": [
      " 50%|█████     | 25/50 [05:47<04:11, 10.07s/it]"
     ]
    },
    {
     "name": "stdout",
     "output_type": "stream",
     "text": [
      "[INFO] File: batch_31.csv was processed to MongoDB Server\n",
      "[INFO] File: batch_31.csv was removed\n"
     ]
    },
    {
     "name": "stderr",
     "output_type": "stream",
     "text": [
      " 52%|█████▏    | 26/50 [05:57<03:59,  9.97s/it]"
     ]
    },
    {
     "name": "stdout",
     "output_type": "stream",
     "text": [
      "[INFO] File: batch_32.csv was processed to MongoDB Server\n",
      "[INFO] File: batch_32.csv was removed\n"
     ]
    },
    {
     "name": "stderr",
     "output_type": "stream",
     "text": [
      " 54%|█████▍    | 27/50 [06:02<03:14,  8.45s/it]"
     ]
    },
    {
     "name": "stdout",
     "output_type": "stream",
     "text": [
      "[INFO] File: batch_33.csv was processed to MongoDB Server\n",
      "[INFO] File: batch_33.csv was removed\n"
     ]
    },
    {
     "name": "stderr",
     "output_type": "stream",
     "text": [
      " 56%|█████▌    | 28/50 [06:07<02:43,  7.42s/it]"
     ]
    },
    {
     "name": "stdout",
     "output_type": "stream",
     "text": [
      "[INFO] File: batch_34.csv was processed to MongoDB Server\n",
      "[INFO] File: batch_34.csv was removed\n"
     ]
    },
    {
     "name": "stderr",
     "output_type": "stream",
     "text": [
      " 58%|█████▊    | 29/50 [07:00<07:21, 21.02s/it]"
     ]
    },
    {
     "name": "stdout",
     "output_type": "stream",
     "text": [
      "[INFO] File: batch_35.csv was processed to MongoDB Server\n",
      "[INFO] File: batch_35.csv was removed\n"
     ]
    },
    {
     "name": "stderr",
     "output_type": "stream",
     "text": [
      " 60%|██████    | 30/50 [07:51<10:00, 30.02s/it]"
     ]
    },
    {
     "name": "stdout",
     "output_type": "stream",
     "text": [
      "[INFO] File: batch_36.csv was processed to MongoDB Server\n",
      "[INFO] File: batch_36.csv was removed\n"
     ]
    },
    {
     "name": "stderr",
     "output_type": "stream",
     "text": [
      " 62%|██████▏   | 31/50 [07:57<07:15, 22.92s/it]"
     ]
    },
    {
     "name": "stdout",
     "output_type": "stream",
     "text": [
      "[INFO] File: batch_37.csv was processed to MongoDB Server\n",
      "[INFO] File: batch_37.csv was removed\n"
     ]
    },
    {
     "name": "stderr",
     "output_type": "stream",
     "text": [
      " 64%|██████▍   | 32/50 [08:04<05:24, 18.04s/it]"
     ]
    },
    {
     "name": "stdout",
     "output_type": "stream",
     "text": [
      "[INFO] File: batch_38.csv was processed to MongoDB Server\n",
      "[INFO] File: batch_38.csv was removed\n"
     ]
    },
    {
     "name": "stderr",
     "output_type": "stream",
     "text": [
      " 66%|██████▌   | 33/50 [08:12<04:17, 15.12s/it]"
     ]
    },
    {
     "name": "stdout",
     "output_type": "stream",
     "text": [
      "[INFO] File: batch_39.csv was processed to MongoDB Server\n",
      "[INFO] File: batch_39.csv was removed\n"
     ]
    },
    {
     "name": "stderr",
     "output_type": "stream",
     "text": [
      " 68%|██████▊   | 34/50 [08:34<04:33, 17.12s/it]"
     ]
    },
    {
     "name": "stdout",
     "output_type": "stream",
     "text": [
      "[INFO] File: batch_4.csv was processed to MongoDB Server\n",
      "[INFO] File: batch_4.csv was removed\n"
     ]
    },
    {
     "name": "stderr",
     "output_type": "stream",
     "text": [
      " 70%|███████   | 35/50 [08:42<03:34, 14.32s/it]"
     ]
    },
    {
     "name": "stdout",
     "output_type": "stream",
     "text": [
      "[INFO] File: batch_40.csv was processed to MongoDB Server\n",
      "[INFO] File: batch_40.csv was removed\n"
     ]
    },
    {
     "name": "stderr",
     "output_type": "stream",
     "text": [
      " 72%|███████▏  | 36/50 [08:49<02:48, 12.07s/it]"
     ]
    },
    {
     "name": "stdout",
     "output_type": "stream",
     "text": [
      "[INFO] File: batch_41.csv was processed to MongoDB Server\n",
      "[INFO] File: batch_41.csv was removed\n"
     ]
    },
    {
     "name": "stderr",
     "output_type": "stream",
     "text": [
      " 74%|███████▍  | 37/50 [08:53<02:08,  9.91s/it]"
     ]
    },
    {
     "name": "stdout",
     "output_type": "stream",
     "text": [
      "[INFO] File: batch_42.csv was processed to MongoDB Server\n",
      "[INFO] File: batch_42.csv was removed\n"
     ]
    },
    {
     "name": "stderr",
     "output_type": "stream",
     "text": [
      " 76%|███████▌  | 38/50 [08:58<01:41,  8.42s/it]"
     ]
    },
    {
     "name": "stdout",
     "output_type": "stream",
     "text": [
      "[INFO] File: batch_43.csv was processed to MongoDB Server\n",
      "[INFO] File: batch_43.csv was removed\n"
     ]
    },
    {
     "name": "stderr",
     "output_type": "stream",
     "text": [
      " 78%|███████▊  | 39/50 [09:03<01:21,  7.38s/it]"
     ]
    },
    {
     "name": "stdout",
     "output_type": "stream",
     "text": [
      "[INFO] File: batch_44.csv was processed to MongoDB Server\n",
      "[INFO] File: batch_44.csv was removed\n"
     ]
    },
    {
     "name": "stderr",
     "output_type": "stream",
     "text": [
      " 80%|████████  | 40/50 [09:09<01:08,  6.83s/it]"
     ]
    },
    {
     "name": "stdout",
     "output_type": "stream",
     "text": [
      "[INFO] File: batch_45.csv was processed to MongoDB Server\n",
      "[INFO] File: batch_45.csv was removed\n"
     ]
    },
    {
     "name": "stderr",
     "output_type": "stream",
     "text": [
      " 82%|████████▏ | 41/50 [09:23<01:20,  8.93s/it]"
     ]
    },
    {
     "name": "stdout",
     "output_type": "stream",
     "text": [
      "[INFO] File: batch_46.csv was processed to MongoDB Server\n",
      "[INFO] File: batch_46.csv was removed\n"
     ]
    },
    {
     "name": "stderr",
     "output_type": "stream",
     "text": [
      " 84%|████████▍ | 42/50 [09:47<01:49, 13.68s/it]"
     ]
    },
    {
     "name": "stdout",
     "output_type": "stream",
     "text": [
      "[INFO] File: batch_47.csv was processed to MongoDB Server\n",
      "[INFO] File: batch_47.csv was removed\n"
     ]
    },
    {
     "name": "stderr",
     "output_type": "stream",
     "text": [
      " 86%|████████▌ | 43/50 [09:53<01:18, 11.19s/it]"
     ]
    },
    {
     "name": "stdout",
     "output_type": "stream",
     "text": [
      "[INFO] File: batch_48.csv was processed to MongoDB Server\n",
      "[INFO] File: batch_48.csv was removed\n"
     ]
    },
    {
     "name": "stderr",
     "output_type": "stream",
     "text": [
      " 88%|████████▊ | 44/50 [09:58<00:55,  9.26s/it]"
     ]
    },
    {
     "name": "stdout",
     "output_type": "stream",
     "text": [
      "[INFO] File: batch_49.csv was processed to MongoDB Server\n",
      "[INFO] File: batch_49.csv was removed\n"
     ]
    },
    {
     "name": "stderr",
     "output_type": "stream",
     "text": [
      " 90%|█████████ | 45/50 [10:02<00:39,  7.93s/it]"
     ]
    },
    {
     "name": "stdout",
     "output_type": "stream",
     "text": [
      "[INFO] File: batch_5.csv was processed to MongoDB Server\n",
      "[INFO] File: batch_5.csv was removed\n"
     ]
    },
    {
     "name": "stderr",
     "output_type": "stream",
     "text": [
      " 92%|█████████▏| 46/50 [10:07<00:27,  6.94s/it]"
     ]
    },
    {
     "name": "stdout",
     "output_type": "stream",
     "text": [
      "[INFO] File: batch_50.csv was processed to MongoDB Server\n",
      "[INFO] File: batch_50.csv was removed\n"
     ]
    },
    {
     "name": "stderr",
     "output_type": "stream",
     "text": [
      " 94%|█████████▍| 47/50 [10:13<00:19,  6.54s/it]"
     ]
    },
    {
     "name": "stdout",
     "output_type": "stream",
     "text": [
      "[INFO] File: batch_6.csv was processed to MongoDB Server\n",
      "[INFO] File: batch_6.csv was removed\n"
     ]
    },
    {
     "name": "stderr",
     "output_type": "stream",
     "text": [
      " 96%|█████████▌| 48/50 [10:21<00:13,  6.96s/it]"
     ]
    },
    {
     "name": "stdout",
     "output_type": "stream",
     "text": [
      "[INFO] File: batch_7.csv was processed to MongoDB Server\n",
      "[INFO] File: batch_7.csv was removed\n"
     ]
    },
    {
     "name": "stderr",
     "output_type": "stream",
     "text": [
      " 98%|█████████▊| 49/50 [10:32<00:08,  8.21s/it]"
     ]
    },
    {
     "name": "stdout",
     "output_type": "stream",
     "text": [
      "[INFO] File: batch_8.csv was processed to MongoDB Server\n",
      "[INFO] File: batch_8.csv was removed\n"
     ]
    },
    {
     "name": "stderr",
     "output_type": "stream",
     "text": [
      "100%|██████████| 50/50 [12:07<00:00, 14.54s/it]"
     ]
    },
    {
     "name": "stdout",
     "output_type": "stream",
     "text": [
      "[INFO] File: batch_9.csv was processed to MongoDB Server\n",
      "[INFO] File: batch_9.csv was removed\n"
     ]
    },
    {
     "name": "stderr",
     "output_type": "stream",
     "text": [
      "\n"
     ]
    }
   ],
   "source": [
    "import_to_mongodb()"
   ]
  },
  {
   "cell_type": "code",
   "execution_count": null,
   "metadata": {},
   "outputs": [],
   "source": []
  }
 ],
 "metadata": {
  "kernelspec": {
   "display_name": "Python 3",
   "language": "python",
   "name": "python3"
  },
  "language_info": {
   "codemirror_mode": {
    "name": "ipython",
    "version": 3
   },
   "file_extension": ".py",
   "mimetype": "text/x-python",
   "name": "python",
   "nbconvert_exporter": "python",
   "pygments_lexer": "ipython3",
   "version": "3.10.10"
  }
 },
 "nbformat": 4,
 "nbformat_minor": 2
}
